{
  "nbformat": 4,
  "nbformat_minor": 0,
  "metadata": {
    "colab": {
      "name": "Chuong1.ipynb",
      "provenance": [],
      "authorship_tag": "ABX9TyNQ6bOdqgbK660JXv8xBJLK",
      "include_colab_link": true
    },
    "kernelspec": {
      "name": "python3",
      "display_name": "Python 3"
    },
    "language_info": {
      "name": "python"
    }
  },
  "cells": [
    {
      "cell_type": "markdown",
      "metadata": {
        "id": "view-in-github",
        "colab_type": "text"
      },
      "source": [
        "<a href=\"https://colab.research.google.com/github/ThienPhuc27/THToanCaoCap/blob/main/Chuong1.ipynb\" target=\"_parent\"><img src=\"https://colab.research.google.com/assets/colab-badge.svg\" alt=\"Open In Colab\"/></a>"
      ]
    },
    {
      "cell_type": "code",
      "execution_count": null,
      "metadata": {
        "colab": {
          "base_uri": "https://localhost:8080/"
        },
        "id": "MYrPTVe_pzs7",
        "outputId": "5143d6af-e23e-45a7-9c9c-87ec31050c14"
      },
      "outputs": [
        {
          "output_type": "stream",
          "name": "stdout",
          "text": [
            "Hello\n"
          ]
        }
      ],
      "source": [
        "print(\"Hello\")"
      ]
    },
    {
      "cell_type": "code",
      "source": [
        "from sympy import Symbol , sin, S\n",
        "Limit(x*sin(1/x),x,S.Infinity)"
      ],
      "metadata": {
        "id": "NtMgmHt8G7Dp",
        "outputId": "e6e70ddb-1c2d-484b-e572-ce942146cd98",
        "colab": {
          "base_uri": "https://localhost:8080/",
          "height": 57
        }
      },
      "execution_count": 45,
      "outputs": [
        {
          "output_type": "execute_result",
          "data": {
            "text/latex": "$\\displaystyle \\lim_{x \\to \\infty}\\left(x \\sin{\\left(\\frac{1}{x} \\right)}\\right)$",
            "text/plain": [
              "Limit(x*sin(1/x), x, oo, dir='-')"
            ]
          },
          "metadata": {},
          "execution_count": 45
        }
      ]
    },
    {
      "cell_type": "code",
      "source": [
        "from sympy import *\n",
        "x = Symbol('x')\n",
        "y = Symbol('y')\n",
        "x+y+x-y"
      ],
      "metadata": {
        "id": "cKz9IF14G9kg",
        "outputId": "74d30a8d-ad8b-4fdf-c51f-0946c2a27118",
        "colab": {
          "base_uri": "https://localhost:8080/",
          "height": 39
        }
      },
      "execution_count": 46,
      "outputs": [
        {
          "output_type": "execute_result",
          "data": {
            "text/latex": "$\\displaystyle 2 x$",
            "text/plain": [
              "2*x"
            ]
          },
          "metadata": {},
          "execution_count": 46
        }
      ]
    },
    {
      "cell_type": "code",
      "source": [
        "N=3\n",
        "dayS=[1/2**k for k in range(0,N)]\n",
        "len(dayS)"
      ],
      "metadata": {
        "id": "xNTNX8NmG_UJ",
        "outputId": "fd4313d6-fc41-4cea-8dd0-86646c3856b7",
        "colab": {
          "base_uri": "https://localhost:8080/"
        }
      },
      "execution_count": 47,
      "outputs": [
        {
          "output_type": "execute_result",
          "data": {
            "text/plain": [
              "3"
            ]
          },
          "metadata": {},
          "execution_count": 47
        }
      ]
    },
    {
      "cell_type": "code",
      "source": [
        "n=1000\n",
        "X=[2*k/n for k in range(0,n+1)]\n",
        "s=0\n",
        "for k in range(1,n+1):\n",
        "  s=s+X[k]**2*(X[k]-X[k-1])"
      ],
      "metadata": {
        "id": "8_oxYeWTHAhp"
      },
      "execution_count": null,
      "outputs": []
    },
    {
      "cell_type": "code",
      "source": [
        "from sympy import Symbol, Limit\n",
        "t = Symbol('t')\n",
        "St = 5*t**2 + 2*t + 8 \n",
        "\n",
        "t1 = Symbol('t1')\n",
        "delta_t = Symbol('delta_t')\n",
        "\n",
        "St1 = St.subs({t: t1})\n",
        "St1_delta = St.subs({t:t1 + delta_t})\n",
        "\n",
        "Limit((St1_delta-St1)/delta_t,delta_t, 0).doit()"
      ],
      "metadata": {
        "id": "WCPHHSacHCBI"
      },
      "execution_count": null,
      "outputs": []
    },
    {
      "cell_type": "code",
      "source": [
        "from sympy import Limit, Symbol\n",
        "x=Symbol('x')\n",
        "Limit(1/x,x,0,dir='-').doit()"
      ],
      "metadata": {
        "id": "vnc5ky5kHDmh"
      },
      "execution_count": null,
      "outputs": []
    },
    {
      "cell_type": "code",
      "source": [
        "from sympy import Limit, Symbol\n",
        "x=Symbol('x')\n",
        "Limit(1/x,x,0,dir='+').doit()"
      ],
      "metadata": {
        "id": "TErOhu15HElZ"
      },
      "execution_count": null,
      "outputs": []
    },
    {
      "cell_type": "code",
      "source": [
        "from sympy import Limit,sin\n",
        "Limit(sin(x)/x,x,0).doit()"
      ],
      "metadata": {
        "id": "LuEScSmJHFkZ"
      },
      "execution_count": null,
      "outputs": []
    },
    {
      "cell_type": "code",
      "source": [
        "blocks = 10000\n",
        "dayS=[1/2**n for n in range(0,blocks)]\n",
        "tongS=sum(dayS)\n",
        "print (tongS)"
      ],
      "metadata": {
        "id": "_nF6YTwpHGnJ"
      },
      "execution_count": null,
      "outputs": []
    },
    {
      "cell_type": "code",
      "source": [
        "from sympy import *\n",
        "a = Rational(1,2)\n",
        "a"
      ],
      "metadata": {
        "id": "gRqrhxV7HHfx"
      },
      "execution_count": null,
      "outputs": []
    },
    {
      "cell_type": "code",
      "source": [
        "from sympy import *\n",
        "a = Rational(1,2)\n",
        "Rational(1,2)+Rational(1,3)"
      ],
      "metadata": {
        "id": "46fG9PT7HIgJ"
      },
      "execution_count": null,
      "outputs": []
    },
    {
      "cell_type": "code",
      "source": [
        "from sympy import *\n",
        "a = Rational(1,2)\n",
        "Rational(1,2)+1"
      ],
      "metadata": {
        "id": "HFImL6sDHJkA"
      },
      "execution_count": null,
      "outputs": []
    },
    {
      "cell_type": "code",
      "source": [
        "from sympy import *\n",
        "a = Rational(1,2)\n",
        "Rational(1,3)+1+1,5"
      ],
      "metadata": {
        "id": "1Uu12QUBHKjZ"
      },
      "execution_count": null,
      "outputs": []
    }
  ]
}